{
 "cells": [
  {
   "cell_type": "code",
   "execution_count": 1,
   "metadata": {
    "collapsed": true
   },
   "outputs": [],
   "source": [
    "import pandas as pd\n",
    "import json\n",
    "import numpy as np"
   ]
  },
  {
   "cell_type": "code",
   "execution_count": 2,
   "metadata": {
    "collapsed": false
   },
   "outputs": [],
   "source": [
    "def prep_companies_sankey(source_file_path,write_to_file_name):\n",
    "    df = pd.read_csv(source_file_path)\n",
    "    df_sankey = df\n",
    "\n",
    "    df_sankey.rename(columns={'company_name': 'Company_name_cl'}, inplace=True)\n",
    "\n",
    "    df_sankey['type'] = 'entity'\n",
    "    df_sankey['target_type'] = ''\n",
    "\n",
    "    company_totals = df_sankey.pivot_table(index=['Company_name_cl'], aggfunc='sum')['per_government_final']\n",
    "    company_totals = company_totals.to_frame()\n",
    "    company_totals.rename(columns={'per_government_final': 'total_payments'}, inplace=True)\n",
    "    company_totals.reset_index(level=0, inplace=True)\n",
    "    company_totals.sort_values(by=['total_payments'], ascending = False, inplace=True)\n",
    "\n",
    "    df_sankey = pd.merge(df_sankey, company_totals, on='Company_name_cl')\n",
    "\n",
    "    df_sankey = df_sankey[df_sankey[\"per_government_final\"] > 0]\n",
    "    df_sankey = df_sankey.sort_values(by=['total_payments'], ascending=False)\n",
    "    df_sankey.drop(['Unnamed: 0'], axis=1)\n",
    "\n",
    "    links_companies = pd.DataFrame(columns=['source','target','value','type'])\n",
    "\n",
    "    df_sankey.rename(columns={'per_government_final': 'value_reported'}, inplace=True)\n",
    "\n",
    "    to_append = df_sankey.groupby(['name_of_revenue_stream','paid_to'],as_index=False)['type','value_reported','total_payments'].sum()\n",
    "\n",
    "    #to_append[\"target\"] = \"Myanmar Gems Enterprise\"\n",
    "    to_append.rename(columns = {'name_of_revenue_stream':'source', 'value_reported' : 'value', 'paid_to': 'target'}, inplace = True)\n",
    "\n",
    "    to_append = to_append.sort_values(by=['value'], ascending = False)\n",
    "    to_append['target_type'] = 'entity'\n",
    "\n",
    "    links_companies = pd.concat([links_companies,to_append])\n",
    "\n",
    "    to_append = df_sankey.groupby(['name_of_revenue_stream','Company_name_cl','type'],as_index=False) \\\n",
    "        ['value_reported','total_payments'] \\\n",
    "        .agg({'value_reported':sum,'total_payments':'first'})\n",
    "    to_append.rename(columns = {'Company_name_cl':'source','name_of_revenue_stream':'target', 'value_reported' : 'value'}, inplace = True)\n",
    "    to_append = to_append.sort_values(by=['total_payments'], ascending = False)\n",
    "    links_companies = pd.concat([links_companies,to_append])\n",
    "\n",
    "    print(to_append['value'].sum())\n",
    "\n",
    "    [unique_list_companies,replace_dict_companies] = prep_nodes_links(links_companies)\n",
    "\n",
    "    write_nodes_links(write_to_file_name,unique_list_companies,replace_dict_companies,links_companies)#\n"
   ]
  },
  {
   "cell_type": "code",
   "execution_count": 3,
   "metadata": {
    "collapsed": true
   },
   "outputs": [],
   "source": [
    "def prep_nodes_links(links):\n",
    "    unique_source = links['source'].unique()\n",
    "    unique_targets = links['target'].unique()\n",
    "\n",
    "    unique_source = pd.merge(pd.DataFrame(unique_source), links, left_on=0, right_on='source', how='left')\n",
    "    unique_source = unique_source.filter([0,'type'])\n",
    "    unique_targets = pd.merge(pd.DataFrame(unique_targets), links, left_on=0, right_on='target', how='left')\n",
    "    unique_targets = unique_targets.filter([0,'target_type'])\n",
    "    unique_targets.rename(columns = {'target_type':'type'}, inplace = True)\n",
    "\n",
    "    unique_list = pd.concat([unique_source[0], unique_targets[0]]).unique()\n",
    "\n",
    "    unique_list = pd.merge(pd.DataFrame(unique_list), \\\n",
    "                           pd.concat([unique_source, unique_targets]), left_on=0, right_on=0, how='left')\n",
    "\n",
    "    unique_list.drop_duplicates(subset=0, keep='first', inplace=True)\n",
    "\n",
    "    replace_dict = {k: v for v, k in enumerate(unique_list[0])}\n",
    "    unique_list\n",
    "    return [unique_list,replace_dict]\n",
    "\n"
   ]
  },
  {
   "cell_type": "code",
   "execution_count": 4,
   "metadata": {
    "collapsed": true
   },
   "outputs": [],
   "source": [
    "def write_nodes_links(filename,unique_list,replace_dict,links):\n",
    "    links_replaced = links.replace({\"source\": replace_dict,\"target\": replace_dict})\n",
    "    nodes = pd.DataFrame(unique_list)\n",
    "    nodes.rename(columns = {0:'name'}, inplace = True)\n",
    "    nodes_json= pd.DataFrame(nodes).to_json(orient='records')\n",
    "    links_json= pd.DataFrame(links_replaced).to_json(orient='records')\n",
    "    \n",
    "    data = { 'links' : json.loads(links_json), 'nodes' : json.loads(nodes_json) }\n",
    "    data_json = json.dumps(data)\n",
    "    data_json = data_json.replace(\"\\\\\",\"\")\n",
    "    #print(data_json)\n",
    "    #with open('sankey_data.json', 'w') as outfile:\n",
    "    #    json.dump(data_json, outfile)\n",
    "\n",
    "    text_file = open(filename + \".json\", \"w\")\n",
    "    text_file.write(data_json)\n",
    "    text_file.close()"
   ]
  },
  {
   "cell_type": "code",
   "execution_count": 6,
   "metadata": {
    "collapsed": false
   },
   "outputs": [
    {
     "name": "stdout",
     "output_type": "stream",
     "text": [
      "2.56751897831e+12\n",
      "5.50368277369e+12\n",
      "3.06079052233e+12\n",
      "5.90749684607e+12\n",
      "3.12694676742e+12\n",
      "5.93414333355e+12\n"
     ]
    }
   ],
   "source": [
    "prep_companies_sankey('2014-15/2014-15_oil_gas.csv','sankey_data_2014-15_oil_and_gas_companies')\n",
    "prep_companies_sankey('2015-16/2015-16_oil_gas.csv','sankey_data_2015-16_oil_and_gas_companies')\n",
    "\n",
    "prep_companies_sankey('2014-15/2014-15_oil_gas_transport.csv','sankey_data_2014-15_oil_and_gas_transport_companies')\n",
    "prep_companies_sankey('2015-16/2015-16_oil_gas_transport.csv','sankey_data_2015-16_oil_and_gas_transport_companies')\n",
    "\n",
    "prep_companies_sankey('2014-15/2014-15_other_minerals.csv','sankey_data_2014-15_other_minerals_companies')\n",
    "prep_companies_sankey('2015-16/2015-16_other_minerals.csv','sankey_data_2015-16_other_minerals_companies')\n"
   ]
  },
  {
   "cell_type": "code",
   "execution_count": null,
   "metadata": {
    "collapsed": true
   },
   "outputs": [],
   "source": [
    "#[unique_list_summary,replace_dict_summary] = prep_nodes_links(links_summary)\n",
    "[unique_list_companies,replace_dict_companies] = prep_nodes_links(links_companies)\n",
    "#[unique_list_govt,replace_dict_govt] = prep_nodes_links(links_govt)"
   ]
  },
  {
   "cell_type": "code",
   "execution_count": null,
   "metadata": {
    "collapsed": true
   },
   "outputs": [],
   "source": [
    "#write_nodes_links(\"sankey_data_2014-15_summary\",unique_list_summary,replace_dict_summary,links_summary)\n",
    "write_nodes_links(\"sankey_data_2014-15_oil_and_gas_companies\",unique_list_companies,replace_dict_companies,links_companies)#\n",
    "#write_nodes_links(\"sankey_data_2014-15_govt\",unique_list_govt,replace_dict_govt,links_govt)"
   ]
  },
  {
   "cell_type": "code",
   "execution_count": null,
   "metadata": {
    "collapsed": true
   },
   "outputs": [],
   "source": [
    "df_sankey = df\n",
    "\n",
    "df_sankey.rename(columns={'company_name': 'Company_name_cl'}, inplace=True)\n",
    "\n",
    "df_sankey['type'] = 'entity'\n",
    "df_sankey['target_type'] = ''"
   ]
  },
  {
   "cell_type": "code",
   "execution_count": null,
   "metadata": {
    "collapsed": false
   },
   "outputs": [],
   "source": [
    "company_totals = df_sankey.pivot_table(index=['Company_name_cl'], aggfunc='sum')['per_government_final']\n",
    "company_totals = company_totals.to_frame()\n",
    "company_totals.rename(columns={'per_government_final': 'total_payments'}, inplace=True)\n",
    "company_totals.reset_index(level=0, inplace=True)\n",
    "company_totals.sort_values(by=['total_payments'], ascending = False, inplace=True)\n",
    "company_totals"
   ]
  },
  {
   "cell_type": "code",
   "execution_count": null,
   "metadata": {
    "collapsed": true
   },
   "outputs": [],
   "source": [
    "df_sankey = pd.merge(df_sankey, company_totals, on='Company_name_cl')"
   ]
  },
  {
   "cell_type": "code",
   "execution_count": null,
   "metadata": {
    "collapsed": false
   },
   "outputs": [],
   "source": [
    "df_sankey = df_sankey[df_sankey[\"per_government_final\"] > 0]\n",
    "df_sankey = df_sankey.sort_values(by=['total_payments'], ascending=False)\n",
    "df_sankey.drop(['Unnamed: 0'], axis=1)\n",
    "df_sankey.head()"
   ]
  },
  {
   "cell_type": "code",
   "execution_count": null,
   "metadata": {
    "collapsed": true
   },
   "outputs": [],
   "source": [
    "links_companies = pd.DataFrame(columns=['source','target','value','type'])"
   ]
  },
  {
   "cell_type": "code",
   "execution_count": null,
   "metadata": {
    "collapsed": true
   },
   "outputs": [],
   "source": [
    "df_sankey.rename(columns={'per_government_final': 'value_reported'}, inplace=True)"
   ]
  },
  {
   "cell_type": "code",
   "execution_count": null,
   "metadata": {
    "collapsed": false
   },
   "outputs": [],
   "source": [
    "to_append = df_sankey.groupby(['name_of_revenue_stream','paid_to'],as_index=False)['type','value_reported','total_payments'].sum()\n",
    "\n",
    "#to_append[\"target\"] = \"Myanmar Gems Enterprise\"\n",
    "to_append.rename(columns = {'name_of_revenue_stream':'source', 'value_reported' : 'value', 'paid_to': 'target'}, inplace = True)\n",
    "\n",
    "to_append = to_append.sort_values(by=['value'], ascending = False)\n",
    "to_append['target_type'] = 'entity'\n",
    "\n",
    "links_companies = pd.concat([links_companies,to_append])\n",
    "\n",
    "print(to_append['value'].sum())\n",
    "links_companies"
   ]
  },
  {
   "cell_type": "code",
   "execution_count": null,
   "metadata": {
    "collapsed": false
   },
   "outputs": [],
   "source": [
    "to_append = df_sankey.groupby(['name_of_revenue_stream','Company_name_cl','type'],as_index=False) \\\n",
    "    ['value_reported','total_payments'] \\\n",
    "    .agg({'value_reported':sum,'total_payments':'first'})\n",
    "to_append.rename(columns = {'Company_name_cl':'source','name_of_revenue_stream':'target', 'value_reported' : 'value'}, inplace = True)\n",
    "to_append = to_append.sort_values(by=['total_payments'], ascending = False)\n",
    "links_companies = pd.concat([links_companies,to_append])\n",
    "\n",
    "print(to_append['value'].sum())\n",
    "#links\n",
    "to_append"
   ]
  },
  {
   "cell_type": "code",
   "execution_count": null,
   "metadata": {
    "collapsed": true
   },
   "outputs": [],
   "source": []
  }
 ],
 "metadata": {
  "kernelspec": {
   "display_name": "Python 2",
   "language": "python",
   "name": "python2"
  },
  "language_info": {
   "codemirror_mode": {
    "name": "ipython",
    "version": 2
   },
   "file_extension": ".py",
   "mimetype": "text/x-python",
   "name": "python",
   "nbconvert_exporter": "python",
   "pygments_lexer": "ipython2",
   "version": "2.7.10"
  }
 },
 "nbformat": 4,
 "nbformat_minor": 1
}
